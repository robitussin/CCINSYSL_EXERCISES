{
  "cells": [
    {
      "cell_type": "markdown",
      "metadata": {
        "id": "view-in-github",
        "colab_type": "text"
      },
      "source": [
        "<a href=\"https://colab.research.google.com/github/robitussin/CCINSYSL_EXERCISES/blob/main/exercise_5_b.ipynb\" target=\"_parent\"><img src=\"https://colab.research.google.com/assets/colab-badge.svg\" alt=\"Open In Colab\"/></a>"
      ]
    },
    {
      "cell_type": "markdown",
      "metadata": {
        "id": "TmJVocT2AChn"
      },
      "source": [
        "# Exercise 5 B"
      ]
    },
    {
      "cell_type": "code",
      "execution_count": null,
      "metadata": {
        "id": "7xLttuxhAChy"
      },
      "outputs": [],
      "source": [
        "import numpy as np\n",
        "from sklearn.datasets import fetch_olivetti_faces\n",
        "import matplotlib.pyplot as plt\n",
        "\n",
        "from sklearn.model_selection import train_test_split\n",
        "from sklearn.linear_model import LogisticRegression\n",
        "from sklearn.linear_model import SGDClassifier"
      ]
    },
    {
      "cell_type": "code",
      "execution_count": null,
      "metadata": {
        "id": "mRn57vIGAChz"
      },
      "outputs": [],
      "source": [
        "faces = fetch_olivetti_faces()"
      ]
    },
    {
      "cell_type": "code",
      "execution_count": null,
      "metadata": {
        "id": "-SYoTvT6AChz"
      },
      "outputs": [],
      "source": [
        "faces.data.shape"
      ]
    },
    {
      "cell_type": "code",
      "execution_count": null,
      "metadata": {
        "id": "sHVcPnlVAChz"
      },
      "outputs": [],
      "source": [
        "faces.images.shape"
      ]
    },
    {
      "cell_type": "code",
      "execution_count": null,
      "metadata": {
        "id": "jeUvojvUAChz"
      },
      "outputs": [],
      "source": [
        "faces.target.shape"
      ]
    },
    {
      "cell_type": "code",
      "execution_count": null,
      "metadata": {
        "id": "F7e3ptCbACh0"
      },
      "outputs": [],
      "source": [
        "faces.target[200]"
      ]
    },
    {
      "cell_type": "markdown",
      "metadata": {
        "id": "z2KzWNniACh0"
      },
      "source": [
        "#### 1. Plot the image of index zero"
      ]
    },
    {
      "cell_type": "code",
      "execution_count": null,
      "metadata": {
        "id": "gtv4skE7ACh0"
      },
      "outputs": [],
      "source": [
        "# put your answer here\n"
      ]
    },
    {
      "cell_type": "markdown",
      "metadata": {
        "id": "sHGFAywyACh0"
      },
      "source": [
        "#### 2. Create a subplot of 10 images in a 3x3 configuration"
      ]
    },
    {
      "cell_type": "code",
      "execution_count": null,
      "metadata": {
        "id": "ClcA7F_SACh0"
      },
      "outputs": [],
      "source": [
        "# put your answer here\n"
      ]
    },
    {
      "cell_type": "markdown",
      "metadata": {
        "id": "3y9oeW8UACh1"
      },
      "source": [
        "#### 3. Split the data into a training and test set"
      ]
    },
    {
      "cell_type": "code",
      "execution_count": null,
      "metadata": {
        "id": "kLmEt5m8ACh1"
      },
      "outputs": [],
      "source": [
        "# put your answer here\n"
      ]
    },
    {
      "cell_type": "markdown",
      "metadata": {
        "id": "3rHWriTcACh1"
      },
      "source": [
        "#### 4. Create a new instance of the LogisticRegression class"
      ]
    },
    {
      "cell_type": "code",
      "execution_count": null,
      "metadata": {
        "id": "GkQ-rdteACh1"
      },
      "outputs": [],
      "source": [
        "# put your answer here\n"
      ]
    },
    {
      "cell_type": "markdown",
      "metadata": {
        "id": "HRhvVF-UACh1"
      },
      "source": [
        "#### 5. Train the model using the training set using the `fit()` function"
      ]
    },
    {
      "cell_type": "code",
      "execution_count": null,
      "metadata": {
        "id": "A5Tk_K02ACh2"
      },
      "outputs": [],
      "source": [
        "# put your answer here\n"
      ]
    },
    {
      "cell_type": "markdown",
      "metadata": {
        "id": "SidEBd8HACh2"
      },
      "source": [
        "#### 6. Use the test data to test the model using the `predict()` function"
      ]
    },
    {
      "cell_type": "code",
      "execution_count": null,
      "metadata": {
        "id": "BsKKbQaPACh2"
      },
      "outputs": [],
      "source": [
        "# put your answer here\n"
      ]
    },
    {
      "cell_type": "markdown",
      "metadata": {
        "id": "XekmaePrACh2"
      },
      "source": [
        "#### 7. Get the accuracy using the `score()` function"
      ]
    },
    {
      "cell_type": "code",
      "execution_count": null,
      "metadata": {
        "id": "i6Bn4m_pACh2"
      },
      "outputs": [],
      "source": [
        "# put your answer here\n"
      ]
    },
    {
      "cell_type": "markdown",
      "metadata": {
        "id": "wVOuHBRyACh2"
      },
      "source": [
        "#### 8. Collect all the misclassified images and create a plot for visualization"
      ]
    },
    {
      "cell_type": "code",
      "execution_count": null,
      "metadata": {
        "id": "etvxV9-1ACh3"
      },
      "outputs": [],
      "source": [
        "# put your answer here\n"
      ]
    },
    {
      "cell_type": "markdown",
      "metadata": {
        "id": "SMqRqK0-ACh3"
      },
      "source": [
        "## Gradient Descent"
      ]
    },
    {
      "cell_type": "markdown",
      "metadata": {
        "id": "Z1S6duUYACh3"
      },
      "source": [
        "#### 9. Use the `SGDClassifier()` to use gradient descent to minimize the loss"
      ]
    },
    {
      "cell_type": "code",
      "execution_count": null,
      "metadata": {
        "id": "8_GX5LCHACh3"
      },
      "outputs": [],
      "source": [
        "# put your answer here\n"
      ]
    },
    {
      "cell_type": "markdown",
      "metadata": {
        "id": "T7SdOSGLACh3"
      },
      "source": [
        "#### 10. Train the model using the training set using the `fit()` function"
      ]
    },
    {
      "cell_type": "code",
      "execution_count": null,
      "metadata": {
        "id": "fK1Oo6ahACh3"
      },
      "outputs": [],
      "source": [
        "# put your answer here\n"
      ]
    },
    {
      "cell_type": "markdown",
      "metadata": {
        "id": "_FgLgypHACh3"
      },
      "source": [
        "#### 11. Use the test data to test the model using the `predict()` function"
      ]
    },
    {
      "cell_type": "code",
      "execution_count": null,
      "metadata": {
        "id": "fuNvVB-_ACh4"
      },
      "outputs": [],
      "source": [
        "# put your answer here"
      ]
    },
    {
      "cell_type": "markdown",
      "metadata": {
        "id": "Du03zKJRACh4"
      },
      "source": [
        "#### 12. Get the accuracy using the `score()` function"
      ]
    },
    {
      "cell_type": "code",
      "execution_count": null,
      "metadata": {
        "id": "_BoKb_iyACh4"
      },
      "outputs": [],
      "source": [
        "# put your answer here"
      ]
    },
    {
      "cell_type": "markdown",
      "metadata": {
        "id": "bS-F4ZhvACh4"
      },
      "source": [
        "#### 13. Find the best number of iterations to get the best accuracy"
      ]
    },
    {
      "cell_type": "code",
      "execution_count": null,
      "metadata": {
        "id": "w6SW-pd3ACh4"
      },
      "outputs": [],
      "source": [
        "# put your answer here"
      ]
    }
  ],
  "metadata": {
    "kernelspec": {
      "display_name": "Python 3",
      "language": "python",
      "name": "python3"
    },
    "language_info": {
      "codemirror_mode": {
        "name": "ipython",
        "version": 3
      },
      "file_extension": ".py",
      "mimetype": "text/x-python",
      "name": "python",
      "nbconvert_exporter": "python",
      "pygments_lexer": "ipython3",
      "version": "3.9.13"
    },
    "colab": {
      "provenance": [],
      "include_colab_link": true
    }
  },
  "nbformat": 4,
  "nbformat_minor": 0
}